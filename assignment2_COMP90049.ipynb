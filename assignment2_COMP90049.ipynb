{
 "cells": [
  {
   "cell_type": "markdown",
   "metadata": {},
   "source": [
    "# COMP90049 Assignment 2"
   ]
  },
  {
   "cell_type": "markdown",
   "metadata": {},
   "source": [
    "### Libaries"
   ]
  },
  {
   "cell_type": "code",
   "execution_count": 21,
   "metadata": {
    "scrolled": false
   },
   "outputs": [],
   "source": [
    "# Libraries imported and used for assignment\n",
    "\n",
    "import pandas as pd\n",
    "import matplotlib.pyplot as plt\n",
    "import numpy as np\n",
    "import warnings\n",
    "from sklearn.dummy import DummyClassifier\n",
    "from sklearn.neural_network import MLPClassifier\n",
    "from sklearn.preprocessing import MinMaxScaler, LabelEncoder\n",
    "from sklearn.model_selection import GridSearchCV\n",
    "from sklearn.feature_extraction.text import TfidfVectorizer\n",
    "from sklearn.metrics import accuracy_score\n",
    "from sklearn.feature_selection import RFECV\n",
    "from sklearn.tree import DecisionTreeClassifier\n",
    "from sklearn import set_config \n",
    "set_config(print_changed_only=False)\n",
    "warnings.filterwarnings(action='ignore')"
   ]
  },
  {
   "cell_type": "markdown",
   "metadata": {},
   "source": [
    "### Helper functions"
   ]
  },
  {
   "cell_type": "code",
   "execution_count": 22,
   "metadata": {},
   "outputs": [],
   "source": [
    "# Helper functions used for the assignments\n",
    "\n",
    "# reads the csv files and imports the data ina  dataframe\n",
    "# removes track id from labels before processing\n",
    "def read_files():\n",
    "    train_features = pd.read_csv(\"train_features.csv\")\n",
    "    train_labels = pd.read_csv(\"train_labels.csv\")\n",
    "    valid_features = pd.read_csv(\"valid_features.csv\")\n",
    "    valid_labels = pd.read_csv(\"valid_labels.csv\")\n",
    "    test_features = pd.read_csv(\"test_features.csv\")\n",
    "    \n",
    "    converted_train_labels, converted_valid_labels, label_encoder = convert_labels_numeric(train_labels, valid_labels)\n",
    "    \n",
    "    return train_features, converted_train_labels, valid_features, converted_valid_labels, test_features, label_encoder\n",
    "\n",
    "# splits features for a given column range\n",
    "def split_features(features, column1, column2):\n",
    "    new_feature_set = features.loc[:,column1:column2]\n",
    "    return new_feature_set\n",
    "\n",
    "# converts a textual feature column into tfidf vector\n",
    "def text_features_tfidf(train_features,valid_features,test_features,text_column):\n",
    "    train_column = train_features.loc[:,text_column]\n",
    "    valid_column = valid_features.loc[:,text_column]\n",
    "    test_column = test_features.loc[:,text_column]\n",
    "    \n",
    "    train_library = train_column.tolist()\n",
    "    valid_library = valid_column.tolist()\n",
    "    test_library = test_column.tolist()\n",
    "    \n",
    "    text_vector = TfidfVectorizer()\n",
    "    text_vector.fit(train_library)\n",
    "    \n",
    "    train_values = text_vector.transform(train_library)\n",
    "    valid_values = text_vector.transform(valid_library)\n",
    "    test_values = text_vector.transform(test_library)\n",
    "    \n",
    "    tfidf_train_features = train_values.toarray()\n",
    "    tfidf_valid_features = valid_values.toarray()\n",
    "    tfidf_test_features = test_values.toarray()\n",
    "    \n",
    "    return tfidf_train_features, tfidf_valid_features, tfidf_test_features\n",
    "\n",
    "# converts string labels into numveric values\n",
    "def convert_labels_numeric(train_labels,valid_labels):\n",
    "    label = LabelEncoder()\n",
    "    train_genre = train_labels['genre'].tolist()\n",
    "    valid_genre = valid_labels['genre'].tolist()\n",
    "    label.fit(train_genre)\n",
    "    converted_train_labels = label.transform(train_genre)\n",
    "    converted_valid_labels = label.transform(valid_genre)\n",
    "    \n",
    "    return converted_train_labels, converted_valid_labels, label\n",
    "\n",
    "# scales values between 0 and 1\n",
    "def min_max_scaler(train_features,valid_features,test_features):\n",
    "    min_max = MinMaxScaler()\n",
    "    min_max.fit(train_features)\n",
    "    scaled_train_values = min_max.transform(train_features)\n",
    "    scaled_valid_values = min_max.transform(valid_features)\n",
    "    scaled_test_values = min_max.transform(test_features)\n",
    "    \n",
    "    return scaled_train_values, scaled_valid_values, scaled_test_values\n",
    "\n",
    "# trains a classifier for a given train feature set and train labels\n",
    "def train(train_features,train_labels,classifier):\n",
    "    \n",
    "    trained_classifier = classifier.fit(train_features,train_labels)\n",
    "    \n",
    "    return trained_classifier\n",
    "\n",
    "# predicts values for a classifier for a given feature set\n",
    "def predict(valid_features,trained_classifier):\n",
    "    \n",
    "    predicted_values = trained_classifier.predict(valid_features)\n",
    "        \n",
    "    return predicted_values\n",
    "\n",
    "# evaluates accuracy score for a set of predicted labels\n",
    "def evaluate(actual_values,predicted_values):\n",
    "    \n",
    "    accuracy = accuracy_score(actual_values,predicted_values)\n",
    "\n",
    "    return accuracy\n",
    "\n",
    "# plots a bar graph showing the count for each type of genre \n",
    "def plot_frequecy_labels(train_labels,label_encoder):\n",
    "    genre=['Classic Pop and Rock','Dance and Electronica','Folk','Jazz and Blues','Metal','Pop','Punk','Soul and Reggae']\n",
    "    original_values = label_encoder.inverse_transform(train_labels)\n",
    "    original_bar,original_count = np.unique(original_values,return_counts=True)\n",
    "    \n",
    "    plt.bar(original_bar,original_count)\n",
    "    plt.xticks(original_bar,genre,rotation=90)\n",
    "    plt.xlabel(\"Genres\")\n",
    "    plt.ylabel(\"Number of values\")\n",
    "    plt.title(\"Bar graph of Number of values for each Genre in training dataset\")\n",
    "    plt.show()\n",
    "\n",
    "# plots a multi bar graph showing the counts for each type of genre for different classifiers\n",
    "def plot_predicted_actual_labels(predicted_DT_labels,predicted_MLP_labels,predicted_DC_labels,valid_labels):\n",
    "    weight = 0.2\n",
    "    labels = ['Decision Tree','Multilayer Perceptron','Zero_R','valid']\n",
    "    genre = ['Classic Pop and Rock','Dance and Electronica','Folk','Jazz and Blues','Metal','Pop','Punk','Soul and Reggae']\n",
    "    DT_bar,DT_count = np.unique(predicted_DT_labels,return_counts=True)\n",
    "    MLP_values,MLP_count = np.unique(predicted_MLP_labels,return_counts=True)\n",
    "    DC_values,DC_count = np.unique(predicted_DC_labels,return_counts=True)\n",
    "    valid_values,valid_count = np.unique(valid_labels,return_counts=True)\n",
    "    \n",
    "    MLP_bar = [values + weight for values in MLP_values]\n",
    "    DC_bar = [values + weight for values in MLP_bar]\n",
    "    valid_bar = [values + weight for values in DC_bar]\n",
    "    \n",
    "    plt.bar(DT_bar, DT_count,weight,label=labels[0])\n",
    "    plt.bar(MLP_bar, MLP_count,weight,label=labels[1])\n",
    "    plt.bar(DC_bar,DC_count,weight,label=labels[2])\n",
    "    plt.bar(valid_bar,valid_count,weight,label=labels[3])\n",
    "\n",
    "    plt.xticks(DT_bar + 0.3,genre,rotation=90)\n",
    "    plt.xlabel(\"Genres\")\n",
    "    plt.ylabel(\"Number of values\")\n",
    "    plt.title(\"Bar graph of Number of values for each Genre\")\n",
    "    plt.legend()\n",
    "    plt.show()\n",
    "    \n",
    "# plots a dataframe for the accuracy score for each type of classifier\n",
    "def plot_predicted_accuracy(predicted_DT_accuracy,predicted_MLP_accuracy,predicted_DC_accuracy):\n",
    "    y_values = [predicted_DT_accuracy,predicted_MLP_accuracy,predicted_DC_accuracy]\n",
    "    x_values = ['DecisionTree','MultilayerPerceptron','Zero_R']\n",
    "    \n",
    "    values = {\n",
    "        'classifier': x_values, \n",
    "        'accuracy': y_values\n",
    "    }\n",
    "    table = pd.DataFrame(values)\n",
    "    return table\n",
    "\n",
    "# initialises the decision tree classifier with hyperparameters for tuning\n",
    "def decision_tree_classifier():\n",
    "    \n",
    "    DT_parameters = {\n",
    "        'criterion':['gini','entropy']\n",
    "    }\n",
    "    \n",
    "    DT = DecisionTreeClassifier()\n",
    "    \n",
    "    return DT, DT_parameters\n",
    "\n",
    "# initialises the multilayer perceptron with hyperparameters for tuning\n",
    "def multi_layer_perceptron_classifier():\n",
    "    \n",
    "    MLP_parameters = {\n",
    "        'activation':['logistic','tanh'],\n",
    "        'solver':['sgd','lbfgs','adam'],\n",
    "        'max_iter':[2000]\n",
    "    }\n",
    "    \n",
    "    MLP = MLPClassifier()\n",
    "    \n",
    "    return MLP, MLP_parameters\n",
    "\n",
    "# initialises the dummy classifier\n",
    "def dummy_classifier():\n",
    "    \n",
    "    DC_parameters = {}\n",
    "    \n",
    "    DC = DummyClassifier()\n",
    "    \n",
    "    return DC\n",
    "\n",
    "# selects features recursively using the RFECV function based on a tuned classifier\n",
    "def select_features(classifier,train_features,valid_features,test_features,train_labels):\n",
    "    \n",
    "    selection = RFECV(classifier,step=1,cv=5, scoring='accuracy')\n",
    "    \n",
    "    selection.fit(train_features,train_labels)\n",
    "    \n",
    "    print('Number of features selected: {}'.format(selection.n_features_))\n",
    "    \n",
    "    x_values = range(1,len(selection.grid_scores_) + 1)\n",
    "    plt.figure()\n",
    "    plt.plot(x_values,selection.grid_scores_)\n",
    "    plt.xlabel(\"Number of features\")\n",
    "    plt.ylabel(\"Accuracy score\")\n",
    "    plt.title(\"Graph of acccuracy score vs Number of features\")\n",
    "    plt.show()\n",
    "    \n",
    "    best_train_features = selection.transform(train_features)\n",
    "    best_valid_features = selection.transform(valid_features)\n",
    "    best_test_features = selection.transform(test_features)\n",
    "    \n",
    "    return best_train_features, best_valid_features, best_test_features\n",
    "\n",
    "# tunes a classifier based on a given set of hyper parameters\n",
    "def train_GSCV_classifier(train_features,train_labels,classifier,parameter):\n",
    "    \n",
    "    gscv = GridSearchCV(classifier,parameter,scoring='accuracy',cv=5,n_jobs=2,verbose=1)\n",
    "    \n",
    "    gscv.fit(train_features,train_labels)\n",
    "    \n",
    "    best_classifier = gscv.best_estimator_\n",
    "    \n",
    "    print('Best classifier selected: \\n{}'.format(best_classifier))\n",
    "    \n",
    "    return best_classifier"
   ]
  },
  {
   "cell_type": "markdown",
   "metadata": {},
   "source": [
    "### Block 1\n",
    "Used for initialising the classifiers, reading files from csv and removing track id from class labels"
   ]
  },
  {
   "cell_type": "code",
   "execution_count": 23,
   "metadata": {},
   "outputs": [],
   "source": [
    "# initialises the classifiers\n",
    "DT, DT_parameters = decision_tree_classifier()\n",
    "MLP, MLP_parameters = multi_layer_perceptron_classifier()\n",
    "DC = dummy_classifier()\n",
    "\n",
    "# reads and preprocesses the csv content\n",
    "train_features, train_labels, valid_features, valid_labels, test_features, label_encoder = read_files()"
   ]
  },
  {
   "cell_type": "markdown",
   "metadata": {},
   "source": [
    "### Block 2\n",
    "Used for spliting audio vectors from the training, validation and testing dataset.\n",
    "Scales the values between 0 and 1.\n",
    "Selects the best number of features for audio feature set.\n",
    "Plots a graph and prints the vector dimensions."
   ]
  },
  {
   "cell_type": "code",
   "execution_count": 24,
   "metadata": {},
   "outputs": [
    {
     "name": "stdout",
     "output_type": "stream",
     "text": [
      "Number of features selected: 85\n"
     ]
    },
    {
     "data": {
      "image/png": "[encoded data removed]",
      "text/plain": [
       "<Figure size 432x288 with 1 Axes>"
      ]
     },
     "metadata": {
      "needs_background": "light"
     },
     "output_type": "display_data"
    },
    {
     "name": "stdout",
     "output_type": "stream",
     "text": [
      "For audio feature set:\n",
      "Train dataset dimensions: (7678, 85)\n",
      "Validation dataset dimensions: (450, 85)\n",
      "Test dataset dimensions: (428, 85)\n"
     ]
    }
   ],
   "source": [
    "# audio feature\n",
    "\n",
    "# splits audio vectors from the dataframes\n",
    "audio_features = split_features(train_features,'vect_1','vect_148')\n",
    "valid_audio_features = split_features(valid_features,'vect_1','vect_148')\n",
    "test_audio_features = split_features(test_features,'vect_1','vect_148')\n",
    "\n",
    "# scales the audio values\n",
    "scaled_train_audio, scaled_valid_audio, scaled_test_audio = min_max_scaler(audio_features,valid_audio_features,test_audio_features)\n",
    "\n",
    "# selects the best number of features from the data and plots a graph\n",
    "best_train_audio, best_valid_audio, best_test_audio = select_features(DT,scaled_train_audio,scaled_valid_audio,scaled_test_audio,train_labels)\n",
    "\n",
    "# prints out the vector dimensions\n",
    "print('For audio feature set:\\nTrain dataset dimensions: {}\\nValidation dataset dimensions: {}\\nTest dataset dimensions: {}'.format(best_train_audio.shape,best_valid_audio.shape,best_test_audio.shape))"
   ]
  },
  {
   "cell_type": "markdown",
   "metadata": {},
   "source": [
    "### Block 3\n",
    "\n",
    "User for fine tuning the hyper parameter of the classifiers"
   ]
  },
  {
   "cell_type": "code",
   "execution_count": 25,
   "metadata": {},
   "outputs": [
    {
     "name": "stdout",
     "output_type": "stream",
     "text": [
      "Fitting 5 folds for each of 2 candidates, totalling 10 fits\n"
     ]
    },
    {
     "name": "stderr",
     "output_type": "stream",
     "text": [
      "[Parallel(n_jobs=2)]: Using backend LokyBackend with 2 concurrent workers.\n",
      "[Parallel(n_jobs=2)]: Done  10 out of  10 | elapsed:    5.3s finished\n"
     ]
    },
    {
     "name": "stdout",
     "output_type": "stream",
     "text": [
      "Best classifier selected: \n",
      "DecisionTreeClassifier(ccp_alpha=0.0, class_weight=None, criterion='entropy',\n",
      "                       max_depth=None, max_features=None, max_leaf_nodes=None,\n",
      "                       min_impurity_decrease=0.0, min_impurity_split=None,\n",
      "                       min_samples_leaf=1, min_samples_split=2,\n",
      "                       min_weight_fraction_leaf=0.0, presort='deprecated',\n",
      "                       random_state=None, splitter='best')\n",
      "Fitting 5 folds for each of 6 candidates, totalling 30 fits\n"
     ]
    },
    {
     "name": "stderr",
     "output_type": "stream",
     "text": [
      "[Parallel(n_jobs=2)]: Using backend LokyBackend with 2 concurrent workers.\n",
      "[Parallel(n_jobs=2)]: Done  30 out of  30 | elapsed: 18.9min finished\n"
     ]
    },
    {
     "name": "stdout",
     "output_type": "stream",
     "text": [
      "Best classifier selected: \n",
      "MLPClassifier(activation='logistic', alpha=0.0001, batch_size='auto',\n",
      "              beta_1=0.9, beta_2=0.999, early_stopping=False, epsilon=1e-08,\n",
      "              hidden_layer_sizes=(100,), learning_rate='constant',\n",
      "              learning_rate_init=0.001, max_fun=15000, max_iter=2000,\n",
      "              momentum=0.9, n_iter_no_change=10, nesterovs_momentum=True,\n",
      "              power_t=0.5, random_state=None, shuffle=True, solver='adam',\n",
      "              tol=0.0001, validation_fraction=0.1, verbose=False,\n",
      "              warm_start=False)\n"
     ]
    }
   ],
   "source": [
    "# fine tunes the classifiers\n",
    "\n",
    "best_DT_classifier = train_GSCV_classifier(best_train_audio,train_labels,DT,DT_parameters)\n",
    "\n",
    "best_MLP_classifier = train_GSCV_classifier(best_train_audio,train_labels,MLP,MLP_parameters)"
   ]
  },
  {
   "cell_type": "markdown",
   "metadata": {},
   "source": [
    "### Block 4 \n",
    "Used for training the classifier, predicting values and calculating accuracy score for audio data"
   ]
  },
  {
   "cell_type": "code",
   "execution_count": 26,
   "metadata": {},
   "outputs": [
    {
     "name": "stdout",
     "output_type": "stream",
     "text": [
      "For audio feature set:\n",
      "Accuracy of Zero-R: 0.12666666666666668\n",
      "Accuracy of Decision Tree: 0.30444444444444446\n",
      "Accuracy of Multilayer Perceptron: 0.45555555555555555\n"
     ]
    },
    {
     "data": {
      "image/png": "[encoded data removed]",
      "text/plain": [
       "<Figure size 432x288 with 1 Axes>"
      ]
     },
     "metadata": {
      "needs_background": "light"
     },
     "output_type": "display_data"
    },
    {
     "data": {
      "text/html": [
       "<div>\n",
       "<style scoped>\n",
       "    .dataframe tbody tr th:only-of-type {\n",
       "        vertical-align: middle;\n",
       "    }\n",
       "\n",
       "    .dataframe tbody tr th {\n",
       "        vertical-align: top;\n",
       "    }\n",
       "\n",
       "    .dataframe thead th {\n",
       "        text-align: right;\n",
       "    }\n",
       "</style>\n",
       "<table border=\"1\" class=\"dataframe\">\n",
       "  <thead>\n",
       "    <tr style=\"text-align: right;\">\n",
       "      <th></th>\n",
       "      <th>classifier</th>\n",
       "      <th>accuracy</th>\n",
       "    </tr>\n",
       "  </thead>\n",
       "  <tbody>\n",
       "    <tr>\n",
       "      <th>0</th>\n",
       "      <td>DecisionTree</td>\n",
       "      <td>0.304444</td>\n",
       "    </tr>\n",
       "    <tr>\n",
       "      <th>1</th>\n",
       "      <td>MultilayerPerceptron</td>\n",
       "      <td>0.455556</td>\n",
       "    </tr>\n",
       "    <tr>\n",
       "      <th>2</th>\n",
       "      <td>Zero_R</td>\n",
       "      <td>0.126667</td>\n",
       "    </tr>\n",
       "  </tbody>\n",
       "</table>\n",
       "</div>"
      ],
      "text/plain": [
       "             classifier  accuracy\n",
       "0          DecisionTree  0.304444\n",
       "1  MultilayerPerceptron  0.455556\n",
       "2                Zero_R  0.126667"
      ]
     },
     "execution_count": 26,
     "metadata": {},
     "output_type": "execute_result"
    }
   ],
   "source": [
    "# trains the classifiers on audio data\n",
    "# predicts class labels\n",
    "# calculates the accuracy score for predicted values\n",
    "\n",
    "# for dummy classifer\n",
    "audio_DC_classifier = train(best_train_audio,train_labels,DC)\n",
    "predicted_audio_DC_labels = predict(best_valid_audio,audio_DC_classifier)\n",
    "audio_DC_accuracy = evaluate(valid_labels,predicted_audio_DC_labels)\n",
    "\n",
    "# for decision tree\n",
    "audio_DT_classifier = train(best_train_audio,train_labels,best_DT_classifier)\n",
    "predicted_audio_DT_labels = predict(best_valid_audio,audio_DT_classifier)\n",
    "audio_DT_accuracy = evaluate(valid_labels,predicted_audio_DT_labels)\n",
    "\n",
    "# for multi layer perceptron\n",
    "audio_MLP_classifier = train(best_train_audio,train_labels,best_MLP_classifier)\n",
    "predicted_audio_MLP_labels = predict(best_valid_audio,audio_MLP_classifier)\n",
    "audio_MLP_accuracy = evaluate(valid_labels,predicted_audio_MLP_labels)\n",
    "\n",
    "# prints out the accuracy\n",
    "print('For audio feature set:\\nAccuracy of Zero-R: {}\\nAccuracy of Decision Tree: {}\\nAccuracy of Multilayer Perceptron: {}'.format(audio_DC_accuracy,audio_DT_accuracy,audio_MLP_accuracy))\n",
    "\n",
    "# plots a multi bar graph showing the counts for each type of genre for different classifiers\n",
    "plot_predicted_actual_labels(predicted_audio_DT_labels,predicted_audio_MLP_labels,predicted_audio_DC_labels,valid_labels)\n",
    "\n",
    "# plots a dataframe for accuracy score\n",
    "plot_predicted_accuracy(audio_DT_accuracy,audio_MLP_accuracy,audio_DC_accuracy)"
   ]
  },
  {
   "cell_type": "markdown",
   "metadata": {},
   "source": [
    "### Block 5\n",
    "Converts tags to TFIDF vector, scales the values and prints out the dimensions"
   ]
  },
  {
   "cell_type": "code",
   "execution_count": 28,
   "metadata": {},
   "outputs": [
    {
     "name": "stdout",
     "output_type": "stream",
     "text": [
      "For lyrical(tags) feature set:\n",
      "Train dataset dimensions: (7678, 4827)\n",
      "Validation dataset dimensions: (450, 4827)\n",
      "Test dataset dimensions: (428, 4827)\n"
     ]
    }
   ],
   "source": [
    "# lyrical feature\n",
    "\n",
    "# converts the tags to TFIDF\n",
    "train_text_features, valid_text_features, test_text_features = text_features_tfidf(train_features,valid_features,test_features,'tags')\n",
    "\n",
    "# scales the values\n",
    "scaled_train_text, scaled_valid_text, scaled_test_text = min_max_scaler(train_text_features,valid_text_features,test_text_features)\n",
    "\n",
    "# prints out the dimensions of the vectors\n",
    "print('For lyrical(tags) feature set:\\nTrain dataset dimensions: {}\\nValidation dataset dimensions: {}\\nTest dataset dimensions: {}'.format(scaled_train_text.shape,scaled_valid_text.shape,scaled_test_text.shape))"
   ]
  },
  {
   "cell_type": "markdown",
   "metadata": {},
   "source": [
    "### Block 6 \n",
    "Used for training the classifier, predicting values and calculating accuracy score for lyrical data"
   ]
  },
  {
   "cell_type": "code",
   "execution_count": 29,
   "metadata": {},
   "outputs": [
    {
     "name": "stdout",
     "output_type": "stream",
     "text": [
      "For lyrical(tags) feature set:\n",
      "Accuracy of Zero-R: 0.13111111111111112\n",
      "Accuracy of Decision Tree: 0.3844444444444444\n",
      "Accuracy of Multilayer Perceptron: 0.5155555555555555\n"
     ]
    },
    {
     "data": {
      "image/png": "[encoded data removed]",
      "text/plain": [
       "<Figure size 432x288 with 1 Axes>"
      ]
     },
     "metadata": {
      "needs_background": "light"
     },
     "output_type": "display_data"
    },
    {
     "data": {
      "text/html": [
       "<div>\n",
       "<style scoped>\n",
       "    .dataframe tbody tr th:only-of-type {\n",
       "        vertical-align: middle;\n",
       "    }\n",
       "\n",
       "    .dataframe tbody tr th {\n",
       "        vertical-align: top;\n",
       "    }\n",
       "\n",
       "    .dataframe thead th {\n",
       "        text-align: right;\n",
       "    }\n",
       "</style>\n",
       "<table border=\"1\" class=\"dataframe\">\n",
       "  <thead>\n",
       "    <tr style=\"text-align: right;\">\n",
       "      <th></th>\n",
       "      <th>classifier</th>\n",
       "      <th>accuracy</th>\n",
       "    </tr>\n",
       "  </thead>\n",
       "  <tbody>\n",
       "    <tr>\n",
       "      <th>0</th>\n",
       "      <td>DecisionTree</td>\n",
       "      <td>0.384444</td>\n",
       "    </tr>\n",
       "    <tr>\n",
       "      <th>1</th>\n",
       "      <td>MultilayerPerceptron</td>\n",
       "      <td>0.515556</td>\n",
       "    </tr>\n",
       "    <tr>\n",
       "      <th>2</th>\n",
       "      <td>Zero_R</td>\n",
       "      <td>0.131111</td>\n",
       "    </tr>\n",
       "  </tbody>\n",
       "</table>\n",
       "</div>"
      ],
      "text/plain": [
       "             classifier  accuracy\n",
       "0          DecisionTree  0.384444\n",
       "1  MultilayerPerceptron  0.515556\n",
       "2                Zero_R  0.131111"
      ]
     },
     "execution_count": 29,
     "metadata": {},
     "output_type": "execute_result"
    }
   ],
   "source": [
    "# trains the classifiers on lyrical data\n",
    "# predicts class labels\n",
    "# calculates the accuracy score for predicted values\n",
    "\n",
    "# for dummy classifer\n",
    "text_DC_classifier = train(scaled_train_text,train_labels,DC)\n",
    "predicted_text_DC_labels = predict(scaled_valid_text,text_DC_classifier)\n",
    "text_DC_accuracy = evaluate(valid_labels,predicted_text_DC_labels)\n",
    "\n",
    "# for decision tree\n",
    "text_DT_classifier = train(scaled_train_text,train_labels,best_DT_classifier)\n",
    "predicted_text_DT_labels = predict(scaled_valid_text,text_DT_classifier)\n",
    "text_DT_accuracy = evaluate(valid_labels,predicted_text_DT_labels)\n",
    "\n",
    "# for multi layer perceptron\n",
    "text_MLP_classifier = train(scaled_train_text,train_labels,best_MLP_classifier)\n",
    "predicted_text_MLP_labels = predict(scaled_valid_text,text_MLP_classifier)\n",
    "text_MLP_accuracy = evaluate(valid_labels,predicted_text_MLP_labels)\n",
    "\n",
    "# prints out the accuracy\n",
    "print('For lyrical(tags) feature set:\\nAccuracy of Zero-R: {}\\nAccuracy of Decision Tree: {}\\nAccuracy of Multilayer Perceptron: {}'.format(text_DC_accuracy,text_DT_accuracy,text_MLP_accuracy))\n",
    "\n",
    "# plots a multi bar graph showing the counts for each type of genre for different classifiers\n",
    "plot_predicted_actual_labels(predicted_text_DT_labels,predicted_text_MLP_labels,predicted_text_DC_labels,valid_labels)\n",
    "\n",
    "# plots a dataframe for accuracy score\n",
    "plot_predicted_accuracy(text_DT_accuracy,text_MLP_accuracy,text_DC_accuracy)"
   ]
  },
  {
   "cell_type": "markdown",
   "metadata": {},
   "source": [
    "### Block 7\n",
    "Converts title to TFIDF vector, selects the best number of metadata features scales the values and prints out the dimensions"
   ]
  },
  {
   "cell_type": "code",
   "execution_count": 30,
   "metadata": {},
   "outputs": [
    {
     "name": "stdout",
     "output_type": "stream",
     "text": [
      "Number of features selected: 4\n"
     ]
    },
    {
     "data": {
      "image/png": "[encoded data removed]",
      "text/plain": [
       "<Figure size 432x288 with 1 Axes>"
      ]
     },
     "metadata": {
      "needs_background": "light"
     },
     "output_type": "display_data"
    }
   ],
   "source": [
    "# metadata feature\n",
    "\n",
    "# converts the title to TFIDF\n",
    "train_title_features, valid_title_features, test_title_features = text_features_tfidf(train_features,valid_features,test_features,'title')\n",
    "\n",
    "# splits the metadata from the dataframes\n",
    "train_audio_property_features = split_features(train_features,'loudness','duration')\n",
    "valid_audio_property_features = split_features(valid_features,'loudness','duration')\n",
    "test_audio_property_features = split_features(test_features,'loudness','duration')\n",
    "\n",
    "# scales the metadata\n",
    "scaled_train_meta, scaled_valid_meta, scaled_test_meta = min_max_scaler(train_audio_property_features,valid_audio_property_features,test_audio_property_features)\n",
    "\n",
    "# scales the title\n",
    "scaled_train_title, scaled_valid_title, scaled_test_title = min_max_scaler(train_title_features,valid_title_features,test_title_features)\n",
    "\n",
    "# selects the best number of features from the data and plots a graph for metadata\n",
    "best_train_meta, best_valid_meta, best_test_meta = select_features(DT,scaled_train_meta,scaled_valid_meta,scaled_test_meta,train_labels)"
   ]
  },
  {
   "cell_type": "markdown",
   "metadata": {},
   "source": [
    "### Block 8\n",
    "Combine metadata values and print the feature vector dimensions"
   ]
  },
  {
   "cell_type": "code",
   "execution_count": 31,
   "metadata": {},
   "outputs": [
    {
     "name": "stdout",
     "output_type": "stream",
     "text": [
      "For metadata feature set:\n",
      "Train dataset dimensions: (7678, 6353)\n",
      "Validation dataset dimensions: (450, 6353)\n",
      "Test dataset dimensions: (428, 6353)\n"
     ]
    }
   ],
   "source": [
    "# concatenate values\n",
    "train_meta_features = np.concatenate((scaled_train_title,best_train_meta), axis=1)\n",
    "valid_meta_features = np.concatenate((scaled_valid_title,best_valid_meta), axis=1)\n",
    "test_meta_features = np.concatenate((scaled_test_title,best_test_meta), axis=1)\n",
    "\n",
    "# print feature vectors\n",
    "print('For metadata feature set:\\nTrain dataset dimensions: {}\\nValidation dataset dimensions: {}\\nTest dataset dimensions: {}'.format(train_meta_features.shape,valid_meta_features.shape,test_meta_features.shape))"
   ]
  },
  {
   "cell_type": "markdown",
   "metadata": {},
   "source": [
    "### Block 9\n",
    "Used for training the classifier, predicting values and calculating accuracy score for metadata"
   ]
  },
  {
   "cell_type": "code",
   "execution_count": 32,
   "metadata": {},
   "outputs": [
    {
     "name": "stdout",
     "output_type": "stream",
     "text": [
      "For metadata feature set:\n",
      "Accuracy of Zero-R: 0.14222222222222222\n",
      "Accuracy of Decision Tree: 0.23333333333333334\n",
      "Accuracy of Multilayer Perceptron: 0.3111111111111111\n"
     ]
    },
    {
     "data": {
      "image/png": "[encoded data removed]",
      "text/plain": [
       "<Figure size 432x288 with 1 Axes>"
      ]
     },
     "metadata": {
      "needs_background": "light"
     },
     "output_type": "display_data"
    },
    {
     "data": {
      "text/html": [
       "<div>\n",
       "<style scoped>\n",
       "    .dataframe tbody tr th:only-of-type {\n",
       "        vertical-align: middle;\n",
       "    }\n",
       "\n",
       "    .dataframe tbody tr th {\n",
       "        vertical-align: top;\n",
       "    }\n",
       "\n",
       "    .dataframe thead th {\n",
       "        text-align: right;\n",
       "    }\n",
       "</style>\n",
       "<table border=\"1\" class=\"dataframe\">\n",
       "  <thead>\n",
       "    <tr style=\"text-align: right;\">\n",
       "      <th></th>\n",
       "      <th>classifier</th>\n",
       "      <th>accuracy</th>\n",
       "    </tr>\n",
       "  </thead>\n",
       "  <tbody>\n",
       "    <tr>\n",
       "      <th>0</th>\n",
       "      <td>DecisionTree</td>\n",
       "      <td>0.233333</td>\n",
       "    </tr>\n",
       "    <tr>\n",
       "      <th>1</th>\n",
       "      <td>MultilayerPerceptron</td>\n",
       "      <td>0.311111</td>\n",
       "    </tr>\n",
       "    <tr>\n",
       "      <th>2</th>\n",
       "      <td>Zero_R</td>\n",
       "      <td>0.142222</td>\n",
       "    </tr>\n",
       "  </tbody>\n",
       "</table>\n",
       "</div>"
      ],
      "text/plain": [
       "             classifier  accuracy\n",
       "0          DecisionTree  0.233333\n",
       "1  MultilayerPerceptron  0.311111\n",
       "2                Zero_R  0.142222"
      ]
     },
     "execution_count": 32,
     "metadata": {},
     "output_type": "execute_result"
    }
   ],
   "source": [
    "# trains the classifiers on lyrical data\n",
    "# predicts class labels\n",
    "# calculates the accuracy score for predicted values\n",
    "\n",
    "# for dummy classifer\n",
    "meta_DC_classifier = train(train_meta_features,train_labels,DC)\n",
    "predicted_meta_DC_labels = predict(valid_meta_features,meta_DC_classifier)\n",
    "metadata_DC_accuracy = evaluate(valid_labels,predicted_meta_DC_labels)\n",
    "\n",
    "# for decision tree\n",
    "meta_DT_classifier = train(train_meta_features,train_labels,best_DT_classifier)\n",
    "predicted_meta_DT_labels = predict(valid_meta_features,meta_DT_classifier)\n",
    "metadata_DT_accuracy = evaluate(valid_labels,predicted_meta_DT_labels)\n",
    "\n",
    "# for multi layer perceptron\n",
    "meta_MLP_classifier = train(train_meta_features,train_labels,best_MLP_classifier)\n",
    "predicted_meta_MLP_labels = predict(valid_meta_features,meta_MLP_classifier)\n",
    "metadata_MLP_accuracy = evaluate(valid_labels,predicted_meta_MLP_labels)\n",
    "\n",
    "# prints out the accuracy\n",
    "print('For metadata feature set:\\nAccuracy of Zero-R: {}\\nAccuracy of Decision Tree: {}\\nAccuracy of Multilayer Perceptron: {}'.format(metadata_DC_accuracy,metadata_DT_accuracy,metadata_MLP_accuracy))\n",
    "\n",
    "# plots a multi bar graph showing the counts for each type of genre for different classifiers\n",
    "plot_predicted_actual_labels(predicted_meta_DT_labels,predicted_meta_MLP_labels,predicted_meta_DC_labels,valid_labels)\n",
    "\n",
    "# plots a dataframe for accuracy score\n",
    "plot_predicted_accuracy(metadata_DT_accuracy,metadata_MLP_accuracy,metadata_DC_accuracy)"
   ]
  },
  {
   "cell_type": "markdown",
   "metadata": {},
   "source": [
    "### Block 10\n",
    "Plots a bar graph showing the count for each type of genre "
   ]
  },
  {
   "cell_type": "code",
   "execution_count": 33,
   "metadata": {},
   "outputs": [
    {
     "data": {
      "image/png": "[encoded data removed]",
      "text/plain": [
       "<Figure size 432x288 with 1 Axes>"
      ]
     },
     "metadata": {
      "needs_background": "light"
     },
     "output_type": "display_data"
    }
   ],
   "source": [
    "# plots the graph\n",
    "plot_frequecy_labels(train_labels,label_encoder)"
   ]
  },
  {
   "cell_type": "markdown",
   "metadata": {},
   "source": [
    "### Block 11\n",
    "Used for training the classifier, predicting values and calculating accuracy score for best feature set from test data"
   ]
  },
  {
   "cell_type": "code",
   "execution_count": 34,
   "metadata": {},
   "outputs": [],
   "source": [
    "# test with test_features using best data type and best classifier\n",
    "# We obtained text features as best type of features and MLP classifier as best classifier\n",
    "test_classifier = train(scaled_train_text,train_labels,text_MLP_classifier)\n",
    "predicted_test_labels = predict(scaled_test_text,test_classifier)\n",
    "converted_predicted_labels = label_encoder.inverse_transform(predicted_test_labels)\n",
    "test_labels = pd.concat([test_features['trackID'],pd.DataFrame(converted_predicted_labels,columns=['genre'])], axis=1)\n",
    "\n",
    "# import to csv\n",
    "test_labels.to_csv('test_labels.csv',index=False)"
   ]
  }
 ],
 "metadata": {
  "kernelspec": {
   "display_name": "Python 3",
   "language": "python",
   "name": "python3"
  },
  "language_info": {
   "codemirror_mode": {
    "name": "ipython",
    "version": 3
   },
   "file_extension": ".py",
   "mimetype": "text/x-python",
   "name": "python",
   "nbconvert_exporter": "python",
   "pygments_lexer": "ipython3",
   "version": "3.8.3"
  }
 },
 "nbformat": 4,
 "nbformat_minor": 4
}
